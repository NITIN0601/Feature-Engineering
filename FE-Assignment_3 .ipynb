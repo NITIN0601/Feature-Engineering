{
  "nbformat": 4,
  "nbformat_minor": 0,
  "metadata": {
    "colab": {
      "name": "Assignment_3.ipynb",
      "provenance": [],
      "collapsed_sections": []
    },
    "kernelspec": {
      "name": "python3",
      "display_name": "Python 3"
    },
    "language_info": {
      "name": "python"
    }
  },
  "cells": [
    {
      "cell_type": "markdown",
      "metadata": {
        "id": "h4Q78w5gKGKR"
      },
      "source": [
        "## CSCE5222.002 Assignment_3 <br>\n",
        "The assignment 3 is the combination of ICE 9 and ICE 10. You may find something helpful in these two ICEs"
      ]
    },
    {
      "cell_type": "markdown",
      "metadata": {
        "id": "EdmcEU_wK3sL"
      },
      "source": [
        "## Task 1. Edge detection <br>\n",
        "In task 1, you need to apply different edge detection methods to an image. Please finish<br>\n",
        "1. Apply sharpening filter to the image and display the edge image;\n",
        "2. Apply Sobel filter to the image and display the edge image;\n",
        "3. Apply Fourier transform to the image, apply high pass filter to the frequency domain graph, then recover the image to spatial domain and display the edge image in spatial domain;\n",
        "4. Apply Fourier transform to the image, extract the phase part of the image, then recover the phase part of the image to spatial domain and display the phase part of the image in spatial domain."
      ]
    },
    {
      "cell_type": "code",
      "metadata": {
        "id": "2CGl1Fy3KCLZ"
      },
      "source": [
        "# write your code here\n"
      ],
      "execution_count": null,
      "outputs": []
    },
    {
      "cell_type": "markdown",
      "metadata": {
        "id": "aYk1HJAKNjmY"
      },
      "source": [
        "## Task 2. Image smoothing\n",
        "In task 2, you need to apply different image smoothing methods to an image. Please finish<br>\n",
        "1. Apply Gaussian smoothing filter to the image and display the result;\n",
        "2. Apply Mean filter to the image and display the result;\n",
        "3. Apply Fourier transform to the image, apply low pass filter to the frequency domain graph, then recover the image to spatial domain and display the result in spatial domain."
      ]
    },
    {
      "cell_type": "code",
      "metadata": {
        "id": "6f9usrhoKFiR"
      },
      "source": [
        "#write you code here:\n"
      ],
      "execution_count": null,
      "outputs": []
    },
    {
      "cell_type": "markdown",
      "metadata": {
        "id": "JNVBcjvlPcRM"
      },
      "source": [
        "## Task 3. Noise removing\n",
        "In task 3, you need to apply different noise removing methods to an image. Please finish<br>\n",
        "1. Add salt and pepper noise to an image and display the noisy image;\n",
        "2. Apply Median filter to the noisy image to remove the noise and display the result;\n",
        "3. Apply Fourier transform to the noisy image, apply band-pass filter to the frequency domain graph, recover the output to spatial domain and display the result."
      ]
    },
    {
      "cell_type": "code",
      "metadata": {
        "id": "z5POOPqLKFk7"
      },
      "source": [
        "#write your code here:\n"
      ],
      "execution_count": null,
      "outputs": []
    }
  ]
}