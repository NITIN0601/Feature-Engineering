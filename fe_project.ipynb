{
 "cells": [
  {
   "cell_type": "markdown",
   "metadata": {
    "id": "AtD9H_FcSHTr"
   },
   "source": [
    "# Hand Gesture Recognition #"
   ]
  },
  {
   "cell_type": "markdown",
   "metadata": {
    "id": "cAQr2xwvSEDs"
   },
   "source": [
    "### Import and Packages ###"
   ]
  },
  {
   "cell_type": "code",
   "execution_count": 1,
   "metadata": {
    "id": "feH51XMGFOF8"
   },
   "outputs": [],
   "source": [
    "# For working with Google Collab and files\n",
    "#from google.colab import drive\n",
    "#from google.colab import files\n",
    "import os\n",
    "\n",
    "# Model\n",
    "from sklearn import tree\n",
    "from sklearn.model_selection import train_test_split\n",
    "from skimage.feature import ORB\n",
    "from sklearn import metrics\n",
    "from sklearn.metrics import plot_confusion_matrix\n",
    "\n",
    "# Helper libraries\n",
    "import numpy as np\n",
    "import matplotlib.pyplot as plt\n",
    "import cv2\n",
    "import pandas as pd"
   ]
  },
  {
   "cell_type": "code",
   "execution_count": 2,
   "metadata": {
    "colab": {
     "base_uri": "https://localhost:8080/"
    },
    "id": "9RZvxha_CNPF",
    "outputId": "f1a813dc-488e-4bc8-d9a6-ee68fd2eb030"
   },
   "outputs": [],
   "source": [
    "# Mount Google Drive\n",
    "# drive.mount('/content/gdrive')"
   ]
  },
  {
   "cell_type": "markdown",
   "metadata": {
    "id": "GxvQBxe3Rc84"
   },
   "source": [
    "## 1. Dataset Creation ##"
   ]
  },
  {
   "cell_type": "code",
   "execution_count": 3,
   "metadata": {
    "id": "GEGFeyShCCOH"
   },
   "outputs": [],
   "source": [
    "base_path = 'gdrive/MyDrive/Colab Notebooks/Hand Gesture Recognition/leapGestRecog'\n",
    "\n",
    "image_paths= []\n",
    "\n",
    "for subdir, dirs, files in os.walk(base_path):\n",
    "    for file in files:\n",
    "        image_path = os.path.join(subdir, file)\n",
    "        if image_path.endswith('.png'):\n",
    "            image_paths.append(image_path)"
   ]
  },
  {
   "cell_type": "code",
   "execution_count": 4,
   "metadata": {
    "colab": {
     "base_uri": "https://localhost:8080/",
     "height": 223
    },
    "id": "Y3IbgYMQBSsG",
    "outputId": "2233ded9-465b-4af6-99d2-8b91a4037d37"
   },
   "outputs": [
    {
     "name": "stdout",
     "output_type": "stream",
     "text": [
      "Images loaded:  0\n",
      "Labels loaded:  0\n"
     ]
    }
   ],
   "source": [
    "X = []\n",
    "y = []\n",
    "\n",
    "for path in image_paths:\n",
    "    img = cv2.imread(path)\n",
    "    img = cv2.cvtColor(img, cv2.COLOR_BGR2GRAY)\n",
    "    img = cv2.resize(img, (320, 120))\n",
    "    X.append(img)\n",
    "    \n",
    "    # Processing label in image path\n",
    "    category = path.split(\"/\")[6]\n",
    "    label = int(category.split(\"_\")[0][1])\n",
    "    y.append(label)\n",
    "    \n",
    "X = np.array(X, dtype=\"uint8\")\n",
    "y = np.array(y)\n",
    "print(\"Images loaded: \", len(X))\n",
    "print(\"Labels loaded: \", len(y))"
   ]
  },
  {
   "cell_type": "code",
   "execution_count": 5,
   "metadata": {
    "id": "w9ZAvIe_MZnI"
   },
   "outputs": [],
   "source": [
    "# Store the X and y array to .npy file for faster loading\n",
    "# np.save('gdrive/MyDrive/Colab Notebooks/Hand Gesture Recognition/X_full.npy', X)\n",
    "# np.save('gdrive/MyDrive/Colab Notebooks/Hand Gesture Recognition/y_full.npy', y)"
   ]
  },
  {
   "cell_type": "code",
   "execution_count": 2,
   "metadata": {
    "id": "eawRi05POsAh"
   },
   "outputs": [],
   "source": [
    "# Load data from .npy file\n",
    "X = np.load('X_full.npy')\n",
    "y = np.load('y_full.npy')"
   ]
  },
  {
   "cell_type": "code",
   "execution_count": 74,
   "metadata": {},
   "outputs": [],
   "source": [
    "# Create Dict of label\n",
    "label_dict = {\n",
    "    1 : 'PALM',\n",
    "    2 : 'L-SHAPE',\n",
    "    3 : 'FIST',\n",
    "    4 : 'FIST-MOVED',\n",
    "    5 : 'THUMB',\n",
    "    6 : 'INDEX',\n",
    "    7 : 'OK',\n",
    "    8 : 'PALM-MOVED',\n",
    "    9 : 'C-SHAPE',\n",
    "    10: 'DOWN'\n",
    "}"
   ]
  },
  {
   "cell_type": "markdown",
   "metadata": {
    "id": "4OyOZ0_NRmwQ"
   },
   "source": [
    "## 2. Exploratory Data Analysis ##"
   ]
  },
  {
   "cell_type": "code",
   "execution_count": 3,
   "metadata": {
    "colab": {
     "base_uri": "https://localhost:8080/",
     "height": 295
    },
    "id": "xgeKKP2WvKJp",
    "outputId": "87cd1b9c-d842-4a64-9146-e5ab4a31c3d3"
   },
   "outputs": [
    {
     "data": {
      "image/png": "[encoded data removed]",
      "text/plain": [
       "<Figure size 432x288 with 1 Axes>"
      ]
     },
     "metadata": {
      "needs_background": "light"
     },
     "output_type": "display_data"
    }
   ],
   "source": [
    "# Class Distribution for Original Dataset (Barplot)\n",
    "(unique, counts) = np.unique(y, return_counts=True)\n",
    "\n",
    "f, ax = plt.subplots()\n",
    "plt.bar(unique, counts)\n",
    "plt.title(\"Class distribution in original dataset\")\n",
    "plt.xlabel(\"Gestures\")\n",
    "plt.ylabel(\"Number of Images\")\n",
    "ax.set_xticks(unique)\n",
    "ax.set_xticklabels(unique)\n",
    "\n",
    "plt.show()"
   ]
  },
  {
   "cell_type": "markdown",
   "metadata": {
    "id": "xozI1SMrRsAD"
   },
   "source": [
    "## 3. Feature Engineering ##"
   ]
  },
  {
   "cell_type": "markdown",
   "metadata": {
    "id": "xIqCo5LwQWl0",
    "tags": []
   },
   "source": [
    "### I. Background Substitution / Gesture Enhancement ###"
   ]
  },
  {
   "cell_type": "code",
   "execution_count": 8,
   "metadata": {
    "colab": {
     "base_uri": "https://localhost:8080/",
     "height": 507
    },
    "id": "Ke_p7vO8S9CV",
    "outputId": "f7f4ccd0-36eb-4fe1-d57e-7b46fdf5d312"
   },
   "outputs": [
    {
     "ename": "ModuleNotFoundError",
     "evalue": "No module named 'google.colab'",
     "output_type": "error",
     "traceback": [
      "\u001b[0;31m---------------------------------------------------------------------------\u001b[0m",
      "\u001b[0;31mModuleNotFoundError\u001b[0m                       Traceback (most recent call last)",
      "\u001b[0;32m/var/folders/xw/qpmqnv0x16q_mzjksztb28n40000gn/T/ipykernel_90185/31195038.py\u001b[0m in \u001b[0;36m<module>\u001b[0;34m\u001b[0m\n\u001b[0;32m----> 1\u001b[0;31m \u001b[0;32mfrom\u001b[0m \u001b[0mgoogle\u001b[0m\u001b[0;34m.\u001b[0m\u001b[0mcolab\u001b[0m \u001b[0;32mimport\u001b[0m \u001b[0mdrive\u001b[0m\u001b[0;34m\u001b[0m\u001b[0;34m\u001b[0m\u001b[0m\n\u001b[0m\u001b[1;32m      2\u001b[0m \u001b[0mdrive\u001b[0m\u001b[0;34m.\u001b[0m\u001b[0mmount\u001b[0m\u001b[0;34m(\u001b[0m\u001b[0;34m'/content/gdrive'\u001b[0m\u001b[0;34m)\u001b[0m\u001b[0;34m\u001b[0m\u001b[0;34m\u001b[0m\u001b[0m\n",
      "\u001b[0;31mModuleNotFoundError\u001b[0m: No module named 'google.colab'"
     ]
    }
   ],
   "source": [
    "from google.colab import drive \n",
    "drive.mount('/content/gdrive')"
   ]
  },
  {
   "cell_type": "code",
   "execution_count": null,
   "metadata": {
    "id": "fCnBOtwoTWMV"
   },
   "outputs": [],
   "source": [
    "%cd '/content/gdrive/MyDrive'\n",
    "!git clone https://github.com/Nkap23/background_removal_DL.git"
   ]
  },
  {
   "cell_type": "code",
   "execution_count": null,
   "metadata": {
    "id": "Rk4_abe8SxPY"
   },
   "outputs": [],
   "source": [
    "from cv2 import cv2 \n",
    "from PIL import Image"
   ]
  },
  {
   "cell_type": "code",
   "execution_count": null,
   "metadata": {
    "id": "NnAfZQN0UYFA"
   },
   "outputs": [],
   "source": [
    "%cd '/content/gdrive/MyDrive/background_removal_DL/test_data/images'\n",
    "!mkdir u2net_results"
   ]
  },
  {
   "cell_type": "code",
   "execution_count": null,
   "metadata": {
    "id": "BavSsrDISxPe"
   },
   "outputs": [],
   "source": [
    "%cd '/content/gdrive/MyDrive/background_removal_DL'\n",
    "!python u2net_image.py"
   ]
  },
  {
   "cell_type": "markdown",
   "metadata": {
    "id": "9fQgm-znTDgI"
   },
   "source": [
    "### II. Image Sharpening ###"
   ]
  },
  {
   "cell_type": "code",
   "execution_count": 3,
   "metadata": {
    "id": "qGiK8XazUIRs"
   },
   "outputs": [],
   "source": [
    "# Function to create gaussian mask\n",
    "def create_gaussian_mask(x, y, sigma=1):\n",
    "    return np.exp(-((x**2 + y**2)/(2*sigma**2)))\n",
    "\n",
    "# Function to apply Gaussian Filters \n",
    "def apply_gaussian_filter(mask_size, sigma=1):\n",
    "    i = -mask_size//2 + 1\n",
    "    j = mask_size//2 + 1\n",
    "    x,y = np.mgrid[i:j, i:j]\n",
    "    gaussain_mask = create_gaussian_mask(x,y,sigma)\n",
    "    return gaussain_mask/gaussain_mask.sum()\n",
    "\n",
    "def sharpen_image(img):\n",
    "    # Smoothing \n",
    "    k3_3 = apply_gaussian_filter(3,1)\n",
    "    smoothen_img = cv2.filter2D(img,-1,k3_3, borderType=cv2.BORDER_CONSTANT)  \n",
    "\n",
    "    # Sharpening\n",
    "    return np.subtract(img, smoothen_img) \n"
   ]
  },
  {
   "cell_type": "markdown",
   "metadata": {
    "id": "hVdk-TWYSx81"
   },
   "source": [
    "### III. Edge Detection ###"
   ]
  },
  {
   "cell_type": "code",
   "execution_count": 4,
   "metadata": {
    "id": "1ZjBsFClVhx9"
   },
   "outputs": [],
   "source": [
    "def apply_hor_filter(img):\n",
    "    # Horizontal Edge detection Kernal - Purpose is to detect horizontal edge in the image\n",
    "    hor_filter = np.array([[ 1, 1, 1],                        \n",
    "                    [ 0, 0, 0],\n",
    "                    [ -1, -1, -1]])\n",
    "    return cv2.filter2D(img,-1,hor_filter, borderType=cv2.BORDER_CONSTANT)   \n",
    "\n",
    "def apply_ver_filter(img):\n",
    "    # Vertical Edge detection Kernal - Purpose is to detect vertical edge in the image\n",
    "    ver_filter = np.array([[ 1, 0, -1],                        \n",
    "                    [ 1, 0, -1],\n",
    "                    [ 1, 0, -1]])\n",
    "    return cv2.filter2D(img,-1,ver_filter, borderType=cv2.BORDER_CONSTANT)   "
   ]
  },
  {
   "cell_type": "markdown",
   "metadata": {
    "id": "0azyuL--S6oI"
   },
   "source": [
    "### IV. Key Point Detection ###"
   ]
  },
  {
   "cell_type": "code",
   "execution_count": 5,
   "metadata": {
    "id": "8qoL5ZHDXLYe"
   },
   "outputs": [],
   "source": [
    "def detect_key_points(img):\n",
    "    # Extract Keypoints\n",
    "    extractor = ORB(n_keypoints=20)\n",
    "    extractor.detect_and_extract(img)\n",
    "    return extractor.keypoints\n"
   ]
  },
  {
   "cell_type": "markdown",
   "metadata": {
    "id": "Tx3hB0NKXL2H"
   },
   "source": [
    "### V. Harris Corner Detection ###"
   ]
  },
  {
   "cell_type": "code",
   "execution_count": 6,
   "metadata": {
    "id": "_ALP-4JjXsWI"
   },
   "outputs": [],
   "source": [
    "def apply_harris_corner_detection(img):\n",
    "    gray = np.float32(img)\n",
    "    return cv2.cornerHarris(gray,2,3,0.04)"
   ]
  },
  {
   "cell_type": "markdown",
   "metadata": {
    "id": "y8WPoWNuzxjc"
   },
   "source": [
    "### VI. Generate Features ###"
   ]
  },
  {
   "cell_type": "code",
   "execution_count": 7,
   "metadata": {
    "id": "YD6-_r0gz0cl",
    "scrolled": true,
    "tags": []
   },
   "outputs": [],
   "source": [
    "# 1. Image Sharpening\n",
    "sharpen_imgs = [ sharpen_image(img) for img in X]\n",
    "\n",
    "# 2.a Vertical Edges\n",
    "vertical_edges = [ apply_ver_filter(sharpen_img) for sharpen_img in sharpen_imgs]\n",
    "\n",
    "# 2.b Horizontal Edges\n",
    "horizontal_edges = [ apply_hor_filter(sharpen_img) for sharpen_img in sharpen_imgs]\n",
    "\n",
    "# 3. Key Points Detection\n",
    "#key_points = [ detect_key_points(sharpen_img) for sharpen_img in sharpen_imgs]\n",
    "\n",
    "# 4. Harris Corner Detection\n",
    "harris_corners = [ apply_harris_corner_detection(sharpen_img) for sharpen_img in sharpen_imgs]\n"
   ]
  },
  {
   "cell_type": "code",
   "execution_count": 8,
   "metadata": {
    "colab": {
     "base_uri": "https://localhost:8080/",
     "height": 240
    },
    "id": "Zy0H8-fL1gdu",
    "outputId": "564d296b-1565-4649-8c9d-a580aa642e77",
    "scrolled": true,
    "tags": []
   },
   "outputs": [],
   "source": [
    "# Integrating all the features \n",
    "X_final = []\n",
    "for row_index in range(len(X)):\n",
    "    X_final.append(np.hstack((np.array(vertical_edges[row_index]).flatten(), np.array(horizontal_edges[row_index]).flatten(), np.array(harris_corners[row_index]).flatten())))"
   ]
  },
  {
   "cell_type": "code",
   "execution_count": 44,
   "metadata": {},
   "outputs": [],
   "source": [
    "# Remove this before submitting - only for development\n",
    "X_final_dev = []\n",
    "y_dev = []\n",
    "for i in np.unique(y):\n",
    "    y_index = list(y).index(i)\n",
    "    X_final_dev.append(X_final[y_index])\n",
    "    y_dev.append(i)\n",
    "\n"
   ]
  },
  {
   "cell_type": "code",
   "execution_count": 45,
   "metadata": {},
   "outputs": [
    {
     "data": {
      "text/plain": [
       "10"
      ]
     },
     "execution_count": 45,
     "metadata": {},
     "output_type": "execute_result"
    }
   ],
   "source": [
    "len(X_final_dev)"
   ]
  },
  {
   "cell_type": "markdown",
   "metadata": {
    "id": "HVMIc4UnRuyR",
    "tags": []
   },
   "source": [
    "## 4. Split Dataset into train and test ##"
   ]
  },
  {
   "cell_type": "code",
   "execution_count": 38,
   "metadata": {},
   "outputs": [],
   "source": [
    "# Change this before submitting - only for development\n",
    "X_train, X_test, y_train, y_test = train_test_split(X_final_dev, y_dev, test_size=0.3, random_state=200)"
   ]
  },
  {
   "cell_type": "markdown",
   "metadata": {
    "id": "OpPQXpBpRzIm"
   },
   "source": [
    "## 5. Create and Train model ##"
   ]
  },
  {
   "cell_type": "code",
   "execution_count": 39,
   "metadata": {},
   "outputs": [
    {
     "data": {
      "text/plain": [
       "SVC()"
      ]
     },
     "execution_count": 39,
     "metadata": {},
     "output_type": "execute_result"
    }
   ],
   "source": [
    "from sklearn import svm\n",
    "clf = svm.SVC()\n",
    "clf.fit(X_train, y_train)\n"
   ]
  },
  {
   "cell_type": "code",
   "execution_count": 40,
   "metadata": {},
   "outputs": [],
   "source": [
    "# Creating Decision Tree model\n",
    "d_tree = tree.DecisionTreeClassifier()\n",
    "\n",
    "# Training the model\n",
    "clf = d_tree.fit(X_train, y_train)"
   ]
  },
  {
   "cell_type": "markdown",
   "metadata": {
    "id": "EYBbATJKR3mY"
   },
   "source": [
    "## 6. Evaluate Model ##"
   ]
  },
  {
   "cell_type": "code",
   "execution_count": 41,
   "metadata": {},
   "outputs": [],
   "source": [
    "# Making prediction for testing data\n",
    "y_pred = clf.predict(X_test)"
   ]
  },
  {
   "cell_type": "code",
   "execution_count": 42,
   "metadata": {},
   "outputs": [
    {
     "data": {
      "text/plain": [
       "0.0"
      ]
     },
     "execution_count": 42,
     "metadata": {},
     "output_type": "execute_result"
    }
   ],
   "source": [
    "# Calculating accuracy score\n",
    "metrics.accuracy_score(y_test, y_pred)"
   ]
  },
  {
   "cell_type": "code",
   "execution_count": 43,
   "metadata": {},
   "outputs": [
    {
     "name": "stderr",
     "output_type": "stream",
     "text": [
      "/Users/aj/opt/anaconda3/lib/python3.8/site-packages/sklearn/utils/deprecation.py:87: FutureWarning: Function plot_confusion_matrix is deprecated; Function `plot_confusion_matrix` is deprecated in 1.0 and will be removed in 1.2. Use one of the class methods: ConfusionMatrixDisplay.from_predictions or ConfusionMatrixDisplay.from_estimator.\n",
      "  warnings.warn(msg, category=FutureWarning)\n"
     ]
    },
    {
     "data": {
      "image/png": "[encoded data removed]",
      "text/plain": [
       "<Figure size 432x288 with 2 Axes>"
      ]
     },
     "metadata": {
      "needs_background": "light"
     },
     "output_type": "display_data"
    }
   ],
   "source": [
    "# Plotting Confusion Matrix\n",
    "plot_confusion_matrix(clf, X_test, y_test) \n",
    "plt.show()"
   ]
  },
  {
   "cell_type": "markdown",
   "metadata": {
    "id": "k1Mow4X7R6I6"
   },
   "source": [
    "## 7. Predict Gesture ##"
   ]
  },
  {
   "cell_type": "code",
   "execution_count": 68,
   "metadata": {},
   "outputs": [
    {
     "data": {
      "text/plain": [
       "<matplotlib.image.AxesImage at 0x7ff47dd60970>"
      ]
     },
     "execution_count": 68,
     "metadata": {},
     "output_type": "execute_result"
    },
    {
     "data": {
      "image/png": "[encoded data removed]",
      "text/plain": [
       "<Figure size 432x288 with 1 Axes>"
      ]
     },
     "metadata": {
      "needs_background": "light"
     },
     "output_type": "display_data"
    }
   ],
   "source": [
    "import matplotlib.pylab as plt\n",
    "img = cv2.imread('prediction.png', cv2.IMREAD_GRAYSCALE)\n",
    "img = cv2.resize(img, (320, 120))\n",
    "plt.imshow(img, 'gray')"
   ]
  },
  {
   "cell_type": "code",
   "execution_count": 72,
   "metadata": {},
   "outputs": [],
   "source": [
    "# 1. Image Sharpening\n",
    "p_sharped_img = sharpen_image(img)\n",
    "\n",
    "# 2.a Vertical Edges\n",
    "p_vertical_edge = apply_ver_filter(p_sharped_img)\n",
    "\n",
    "# 2.b Horizontal Edges\n",
    "p_horizontal_edge = apply_hor_filter(p_sharped_img)\n",
    "\n",
    "# 3. Key Points Detection\n",
    "#key_points = [ detect_key_points(sharpen_img) for sharpen_img in sharpen_imgs]\n",
    "\n",
    "# 4. Harris Corner Detection\n",
    "p_harris_corner = apply_harris_corner_detection(p_sharped_img)\n",
    "\n",
    "img_features = np.hstack((np.array(p_vertical_edge).flatten(), np.array(p_horizontal_edge).flatten(), np.array(p_harris_corner).flatten()))\n",
    "\n",
    "gesture = clf.predict([img_features])[0]"
   ]
  },
  {
   "cell_type": "code",
   "execution_count": 77,
   "metadata": {},
   "outputs": [
    {
     "name": "stdout",
     "output_type": "stream",
     "text": [
      "The predicted gesture is:  OK\n"
     ]
    }
   ],
   "source": [
    "print('The predicted gesture is: ', label_dict[gesture])"
   ]
  },
  {
   "cell_type": "code",
   "execution_count": null,
   "metadata": {},
   "outputs": [],
   "source": []
  }
 ],
 "metadata": {
  "accelerator": "GPU",
  "colab": {
   "collapsed_sections": [
    "xIqCo5LwQWl0"
   ],
   "name": "fe_project.ipynb",
   "provenance": [],
   "toc_visible": true
  },
  "kernelspec": {
   "display_name": "Python 3 (ipykernel)",
   "language": "python",
   "name": "python3"
  },
  "language_info": {
   "codemirror_mode": {
    "name": "ipython",
    "version": 3
   },
   "file_extension": ".py",
   "mimetype": "text/x-python",
   "name": "python",
   "nbconvert_exporter": "python",
   "pygments_lexer": "ipython3",
   "version": "3.8.8"
  }
 },
 "nbformat": 4,
 "nbformat_minor": 4
}
