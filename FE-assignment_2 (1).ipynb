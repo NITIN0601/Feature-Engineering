{
 "cells": [
  {
   "cell_type": "markdown",
   "id": "24cdee58",
   "metadata": {},
   "source": [
    "# CSCE5222.002 Assignment 2 <br>\n",
    "Please download the images from the following link for this assignment <br>\n",
    "https://drive.google.com/drive/folders/1LPspbBBDsvf5BdGdVrbMFHpqhH0yF8mg?usp=sharing <br>\n",
    "The main purpose of this assignment is image retrieval. You will find 4 target images search_1.jpg to search_4.jpg and 50 data images from 1.jpg to 50.jpg. <br> **Try to retrieve the 5 most similar images from the data images to the target images, respectively, and display them.** <br>\n",
    "Please refer to the following link for a simple application using VGG-16 for image retrieval. You can modify the feature extraction method for your assignment, or you can have your own code for this assignment.<br>\n",
    "https://towardsdatascience.com/build-an-image-search-engine-using-python-ad181e76441b?gi=3714e721bc0 <br>\n",
    "**Note: if you are required to pay for reviewing, please use a different browser to review it.**"
   ]
  },
  {
   "cell_type": "markdown",
   "id": "9c6fe65a",
   "metadata": {},
   "source": [
    "## Task 1. Using only 1 feature descriptor for image retrieval\n",
    "Please use only one feature descriptor for image retrival, for instance color layout feature, HOG feature, etc. <br>\n",
    "**Note: if you are using the features like HOG, you may need to use correlation to measure the similarity.**"
   ]
  },
  {
   "cell_type": "code",
   "execution_count": null,
   "id": "9f1bac72",
   "metadata": {},
   "outputs": [],
   "source": [
    "#write you code here\n"
   ]
  },
  {
   "cell_type": "markdown",
   "id": "6fba90f1",
   "metadata": {},
   "source": [
    "## Task 2. Combining 2 feature descriptors for image retrieval\n",
    "In this task, you need to use 2 different feature descriptors for image retrieval. <br>\n",
    "If the two features are like the same type of color layout feature, you may need to concatenate them to one vector, then measure the similarity. For instance, feature 1 is a 1-by-N vector, feature 2 is a 1-by-M vector, then you may need to concatenate them to be a 1-by-(M+N) vector. If you mixed different types of features, try to assign weights to different features for similarity measurement."
   ]
  },
  {
   "cell_type": "code",
   "execution_count": null,
   "id": "6a5ff039",
   "metadata": {},
   "outputs": [],
   "source": [
    "#write your code here\n"
   ]
  },
  {
   "cell_type": "markdown",
   "id": "a7d2c18d",
   "metadata": {},
   "source": [
    "## Task 3. Try to apply Convolutional fiter to the images first, then using combined feature descriptor for image retrieval.\n",
    "In this task, you need to apply one Convolutional fiter to the images first. You can select any type of convolutional kernel. Then apply the the combined feature descriptor for image retrieval"
   ]
  },
  {
   "cell_type": "code",
   "execution_count": null,
   "id": "4f263d52",
   "metadata": {},
   "outputs": [],
   "source": [
    "#write your code here\n"
   ]
  },
  {
   "cell_type": "code",
   "execution_count": null,
   "id": "f7d39986",
   "metadata": {},
   "outputs": [],
   "source": []
  }
 ],
 "metadata": {
  "kernelspec": {
   "display_name": "Python 3",
   "language": "python",
   "name": "python3"
  },
  "language_info": {
   "codemirror_mode": {
    "name": "ipython",
    "version": 3
   },
   "file_extension": ".py",
   "mimetype": "text/x-python",
   "name": "python",
   "nbconvert_exporter": "python",
   "pygments_lexer": "ipython3",
   "version": "3.8.8"
  }
 },
 "nbformat": 4,
 "nbformat_minor": 5
}
