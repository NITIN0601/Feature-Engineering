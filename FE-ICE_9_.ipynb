{
  "nbformat": 4,
  "nbformat_minor": 0,
  "metadata": {
    "colab": {
      "name": "ICE-9.ipynb",
      "provenance": [],
      "collapsed_sections": []
    },
    "kernelspec": {
      "name": "python3",
      "display_name": "Python 3"
    },
    "language_info": {
      "name": "python"
    }
  },
  "cells": [
    {
      "cell_type": "markdown",
      "metadata": {
        "id": "-okxdUCM9cWv"
      },
      "source": [
        "## ICE-9 Spatial Filters\n",
        "Please note that all the tasks and questions are extensions of the course's PPTs"
      ]
    },
    {
      "cell_type": "markdown",
      "metadata": {
        "id": "SpYwd0nxAkRp"
      },
      "source": [
        "## Task 1. Gaussian filters\n",
        "Given the Gaussian mask creation formula: h(x,y) = exp(- (x.^2+y.^2) / (2*sigma^2)). Please create 3 by 3, 5 by 5, and 7 by 7 Gaussian masks and display the masks' matrices (assume sigma = 1). Apply these Gaussian filters to one image separately, and display the outputs. (DO NOT use any of the existing implementations for Gaussian  masks creation)"
      ]
    },
    {
      "cell_type": "code",
      "metadata": {
        "id": "kajDL5Tk91kD"
      },
      "source": [
        "#write you code here\n"
      ],
      "execution_count": null,
      "outputs": []
    },
    {
      "cell_type": "markdown",
      "metadata": {
        "id": "xNYvNkJ8DtOm"
      },
      "source": [
        "## Question 1. According to the filters you have learnt, which is the best one to remove the salt and pepper noise? Explain it."
      ]
    },
    {
      "cell_type": "markdown",
      "metadata": {
        "id": "sFnn6W3BEF6a"
      },
      "source": [
        "**Answer to Q1**: type your answer here\n"
      ]
    },
    {
      "cell_type": "markdown",
      "metadata": {
        "id": "pzjnbMqxEW_m"
      },
      "source": [
        "---"
      ]
    },
    {
      "cell_type": "markdown",
      "metadata": {
        "id": "AiFErYdVGmtD"
      },
      "source": [
        "## Task 2. Sharpening Filters\n",
        "2.1 We know a sharp image can be obtained by by subtracting a smoothed (i.e low-passed) image from the original image. Please get a sharp image with the 7 by 7 Gaussian smoothing filter you built in task 1 and display the output."
      ]
    },
    {
      "cell_type": "code",
      "metadata": {
        "id": "dy0IalCU91pT"
      },
      "source": [
        "#write you code here\n"
      ],
      "execution_count": null,
      "outputs": []
    },
    {
      "cell_type": "markdown",
      "metadata": {
        "id": "9RbR1YXUICtB"
      },
      "source": [
        "2.2 Using the sharp image produced in task 2.1, please apply the unsharp masking and high boost filtering (k = 3) separately, and display the sharpening results."
      ]
    },
    {
      "cell_type": "code",
      "metadata": {
        "id": "w99Sd_v591sB"
      },
      "source": [
        "#write your code here\n"
      ],
      "execution_count": null,
      "outputs": []
    },
    {
      "cell_type": "markdown",
      "metadata": {
        "id": "OlJqB3yFJOzd"
      },
      "source": [
        "## Question 2.1 Please give an example of 3 by 3 unsharp masking filter.\n",
        "For instance, an example of sobel mask filter is: [[-1, -2, -1],[0, 0, 0],[1, 2, 1]]."
      ]
    },
    {
      "cell_type": "markdown",
      "metadata": {
        "id": "tB5wHgNtLr8G"
      },
      "source": [
        "**Answer to Q2.1**: type your answer here\n"
      ]
    },
    {
      "cell_type": "markdown",
      "metadata": {
        "id": "T7PEBwSWL4PU"
      },
      "source": [
        "## Question 2.2 Explain the difference between sharpening filter (high-pass) and unsharp masking filter\n",
        "Given a 3 by 3 sharpening filter as [[-1, -1, -1],[-1, 8, -1],[-1, -1, -1]]."
      ]
    },
    {
      "cell_type": "markdown",
      "metadata": {
        "id": "i7NZLPa0Mz98"
      },
      "source": [
        "**Answer to Q2.2**: type your answer here"
      ]
    },
    {
      "cell_type": "markdown",
      "metadata": {
        "id": "lQW3NzC8M-40"
      },
      "source": [
        "---"
      ]
    },
    {
      "cell_type": "code",
      "metadata": {
        "id": "tut0PW7791vI"
      },
      "source": [
        ""
      ],
      "execution_count": null,
      "outputs": []
    }
  ]
}